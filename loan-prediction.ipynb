{
 "cells": [
  {
   "cell_type": "code",
   "execution_count": 1,
   "metadata": {
    "_cell_guid": "b1076dfc-b9ad-4769-8c92-a6c4dae69d19",
    "_uuid": "8f2839f25d086af736a60e9eeb907d3b93b6e0e5",
    "execution": {
     "iopub.execute_input": "2021-01-22T12:42:40.723982Z",
     "iopub.status.busy": "2021-01-22T12:42:40.723349Z",
     "iopub.status.idle": "2021-01-22T12:42:40.734048Z",
     "shell.execute_reply": "2021-01-22T12:42:40.732762Z"
    },
    "papermill": {
     "duration": 0.06264,
     "end_time": "2021-01-22T12:42:40.734150",
     "exception": false,
     "start_time": "2021-01-22T12:42:40.671510",
     "status": "completed"
    },
    "tags": []
   },
   "outputs": [
    {
     "name": "stdout",
     "output_type": "stream",
     "text": [
      "/kaggle/input/loan-prediction-problem-dataset/test_Y3wMUE5_7gLdaTN.csv\n",
      "/kaggle/input/loan-prediction-problem-dataset/train_u6lujuX_CVtuZ9i.csv\n"
     ]
    }
   ],
   "source": [
    "# This Python 3 environment comes with many helpful analytics libraries installed\n",
    "# It is defined by the kaggle/python Docker image: https://github.com/kaggle/docker-python\n",
    "# For example, here's several helpful packages to load\n",
    "\n",
    "import numpy as np # linear algebra\n",
    "import pandas as pd # data processing, CSV file I/O (e.g. pd.read_csv)\n",
    "\n",
    "# Input data files are available in the read-only \"../input/\" directory\n",
    "# For example, running this (by clicking run or pressing Shift+Enter) will list all files under the input directory\n",
    "\n",
    "import os\n",
    "for dirname, _, filenames in os.walk('/kaggle/input'):\n",
    "    for filename in filenames:\n",
    "        print(os.path.join(dirname, filename))\n",
    "\n",
    "# You can write up to 20GB to the current directory (/kaggle/working/) that gets preserved as output when you create a version using \"Save & Run All\" \n",
    "# You can also write temporary files to /kaggle/temp/, but they won't be saved outside of the current session"
   ]
  },
  {
   "cell_type": "markdown",
   "metadata": {
    "papermill": {
     "duration": 0.044261,
     "end_time": "2021-01-22T12:42:40.823572",
     "exception": false,
     "start_time": "2021-01-22T12:42:40.779311",
     "status": "completed"
    },
    "tags": []
   },
   "source": [
    "Read the train and test data set first"
   ]
  },
  {
   "cell_type": "code",
   "execution_count": 2,
   "metadata": {
    "execution": {
     "iopub.execute_input": "2021-01-22T12:42:40.917737Z",
     "iopub.status.busy": "2021-01-22T12:42:40.917076Z",
     "iopub.status.idle": "2021-01-22T12:42:40.921072Z",
     "shell.execute_reply": "2021-01-22T12:42:40.920339Z"
    },
    "papermill": {
     "duration": 0.053731,
     "end_time": "2021-01-22T12:42:40.921189",
     "exception": false,
     "start_time": "2021-01-22T12:42:40.867458",
     "status": "completed"
    },
    "tags": []
   },
   "outputs": [],
   "source": [
    "import matplotlib.pyplot as plt"
   ]
  },
  {
   "cell_type": "code",
   "execution_count": 3,
   "metadata": {
    "_cell_guid": "79c7e3d0-c299-4dcb-8224-4455121ee9b0",
    "_uuid": "d629ff2d2480ee46fbb7e2d37f6b5fab8052498a",
    "execution": {
     "iopub.execute_input": "2021-01-22T12:42:41.019138Z",
     "iopub.status.busy": "2021-01-22T12:42:41.018421Z",
     "iopub.status.idle": "2021-01-22T12:42:41.076597Z",
     "shell.execute_reply": "2021-01-22T12:42:41.075938Z"
    },
    "papermill": {
     "duration": 0.110477,
     "end_time": "2021-01-22T12:42:41.076703",
     "exception": false,
     "start_time": "2021-01-22T12:42:40.966226",
     "status": "completed"
    },
    "tags": []
   },
   "outputs": [
    {
     "data": {
      "text/html": [
       "<div>\n",
       "<style scoped>\n",
       "    .dataframe tbody tr th:only-of-type {\n",
       "        vertical-align: middle;\n",
       "    }\n",
       "\n",
       "    .dataframe tbody tr th {\n",
       "        vertical-align: top;\n",
       "    }\n",
       "\n",
       "    .dataframe thead th {\n",
       "        text-align: right;\n",
       "    }\n",
       "</style>\n",
       "<table border=\"1\" class=\"dataframe\">\n",
       "  <thead>\n",
       "    <tr style=\"text-align: right;\">\n",
       "      <th></th>\n",
       "      <th>Loan_ID</th>\n",
       "      <th>Gender</th>\n",
       "      <th>Married</th>\n",
       "      <th>Dependents</th>\n",
       "      <th>Education</th>\n",
       "      <th>Self_Employed</th>\n",
       "      <th>ApplicantIncome</th>\n",
       "      <th>CoapplicantIncome</th>\n",
       "      <th>LoanAmount</th>\n",
       "      <th>Loan_Amount_Term</th>\n",
       "      <th>Credit_History</th>\n",
       "      <th>Property_Area</th>\n",
       "      <th>Loan_Status</th>\n",
       "    </tr>\n",
       "  </thead>\n",
       "  <tbody>\n",
       "    <tr>\n",
       "      <th>0</th>\n",
       "      <td>LP001002</td>\n",
       "      <td>Male</td>\n",
       "      <td>No</td>\n",
       "      <td>0</td>\n",
       "      <td>Graduate</td>\n",
       "      <td>No</td>\n",
       "      <td>5849</td>\n",
       "      <td>0.0</td>\n",
       "      <td>NaN</td>\n",
       "      <td>360.0</td>\n",
       "      <td>1.0</td>\n",
       "      <td>Urban</td>\n",
       "      <td>Y</td>\n",
       "    </tr>\n",
       "    <tr>\n",
       "      <th>1</th>\n",
       "      <td>LP001003</td>\n",
       "      <td>Male</td>\n",
       "      <td>Yes</td>\n",
       "      <td>1</td>\n",
       "      <td>Graduate</td>\n",
       "      <td>No</td>\n",
       "      <td>4583</td>\n",
       "      <td>1508.0</td>\n",
       "      <td>128.0</td>\n",
       "      <td>360.0</td>\n",
       "      <td>1.0</td>\n",
       "      <td>Rural</td>\n",
       "      <td>N</td>\n",
       "    </tr>\n",
       "    <tr>\n",
       "      <th>2</th>\n",
       "      <td>LP001005</td>\n",
       "      <td>Male</td>\n",
       "      <td>Yes</td>\n",
       "      <td>0</td>\n",
       "      <td>Graduate</td>\n",
       "      <td>Yes</td>\n",
       "      <td>3000</td>\n",
       "      <td>0.0</td>\n",
       "      <td>66.0</td>\n",
       "      <td>360.0</td>\n",
       "      <td>1.0</td>\n",
       "      <td>Urban</td>\n",
       "      <td>Y</td>\n",
       "    </tr>\n",
       "    <tr>\n",
       "      <th>3</th>\n",
       "      <td>LP001006</td>\n",
       "      <td>Male</td>\n",
       "      <td>Yes</td>\n",
       "      <td>0</td>\n",
       "      <td>Not Graduate</td>\n",
       "      <td>No</td>\n",
       "      <td>2583</td>\n",
       "      <td>2358.0</td>\n",
       "      <td>120.0</td>\n",
       "      <td>360.0</td>\n",
       "      <td>1.0</td>\n",
       "      <td>Urban</td>\n",
       "      <td>Y</td>\n",
       "    </tr>\n",
       "    <tr>\n",
       "      <th>4</th>\n",
       "      <td>LP001008</td>\n",
       "      <td>Male</td>\n",
       "      <td>No</td>\n",
       "      <td>0</td>\n",
       "      <td>Graduate</td>\n",
       "      <td>No</td>\n",
       "      <td>6000</td>\n",
       "      <td>0.0</td>\n",
       "      <td>141.0</td>\n",
       "      <td>360.0</td>\n",
       "      <td>1.0</td>\n",
       "      <td>Urban</td>\n",
       "      <td>Y</td>\n",
       "    </tr>\n",
       "  </tbody>\n",
       "</table>\n",
       "</div>"
      ],
      "text/plain": [
       "    Loan_ID Gender Married Dependents     Education Self_Employed  \\\n",
       "0  LP001002   Male      No          0      Graduate            No   \n",
       "1  LP001003   Male     Yes          1      Graduate            No   \n",
       "2  LP001005   Male     Yes          0      Graduate           Yes   \n",
       "3  LP001006   Male     Yes          0  Not Graduate            No   \n",
       "4  LP001008   Male      No          0      Graduate            No   \n",
       "\n",
       "   ApplicantIncome  CoapplicantIncome  LoanAmount  Loan_Amount_Term  \\\n",
       "0             5849                0.0         NaN             360.0   \n",
       "1             4583             1508.0       128.0             360.0   \n",
       "2             3000                0.0        66.0             360.0   \n",
       "3             2583             2358.0       120.0             360.0   \n",
       "4             6000                0.0       141.0             360.0   \n",
       "\n",
       "   Credit_History Property_Area Loan_Status  \n",
       "0             1.0         Urban           Y  \n",
       "1             1.0         Rural           N  \n",
       "2             1.0         Urban           Y  \n",
       "3             1.0         Urban           Y  \n",
       "4             1.0         Urban           Y  "
      ]
     },
     "execution_count": 3,
     "metadata": {},
     "output_type": "execute_result"
    }
   ],
   "source": [
    "train= pd.read_csv('../input/loan-prediction-problem-dataset/train_u6lujuX_CVtuZ9i.csv')\n",
    "test= pd.read_csv('../input/loan-prediction-problem-dataset/test_Y3wMUE5_7gLdaTN.csv')\n",
    "train.head()"
   ]
  },
  {
   "cell_type": "code",
   "execution_count": 4,
   "metadata": {
    "execution": {
     "iopub.execute_input": "2021-01-22T12:42:41.173253Z",
     "iopub.status.busy": "2021-01-22T12:42:41.172649Z",
     "iopub.status.idle": "2021-01-22T12:42:41.178605Z",
     "shell.execute_reply": "2021-01-22T12:42:41.177737Z"
    },
    "papermill": {
     "duration": 0.05573,
     "end_time": "2021-01-22T12:42:41.178739",
     "exception": false,
     "start_time": "2021-01-22T12:42:41.123009",
     "status": "completed"
    },
    "tags": []
   },
   "outputs": [
    {
     "data": {
      "text/plain": [
       "(614, 13)"
      ]
     },
     "execution_count": 4,
     "metadata": {},
     "output_type": "execute_result"
    }
   ],
   "source": [
    "train.shape"
   ]
  },
  {
   "cell_type": "markdown",
   "metadata": {
    "papermill": {
     "duration": 0.070217,
     "end_time": "2021-01-22T12:42:41.319560",
     "exception": false,
     "start_time": "2021-01-22T12:42:41.249343",
     "status": "completed"
    },
    "tags": []
   },
   "source": [
    "Will look for the data description "
   ]
  },
  {
   "cell_type": "code",
   "execution_count": 5,
   "metadata": {
    "execution": {
     "iopub.execute_input": "2021-01-22T12:42:41.477760Z",
     "iopub.status.busy": "2021-01-22T12:42:41.477049Z",
     "iopub.status.idle": "2021-01-22T12:42:41.481877Z",
     "shell.execute_reply": "2021-01-22T12:42:41.481306Z"
    },
    "papermill": {
     "duration": 0.092011,
     "end_time": "2021-01-22T12:42:41.482018",
     "exception": false,
     "start_time": "2021-01-22T12:42:41.390007",
     "status": "completed"
    },
    "tags": []
   },
   "outputs": [
    {
     "name": "stdout",
     "output_type": "stream",
     "text": [
      "<class 'pandas.core.frame.DataFrame'>\n",
      "RangeIndex: 614 entries, 0 to 613\n",
      "Data columns (total 13 columns):\n",
      " #   Column             Non-Null Count  Dtype  \n",
      "---  ------             --------------  -----  \n",
      " 0   Loan_ID            614 non-null    object \n",
      " 1   Gender             601 non-null    object \n",
      " 2   Married            611 non-null    object \n",
      " 3   Dependents         599 non-null    object \n",
      " 4   Education          614 non-null    object \n",
      " 5   Self_Employed      582 non-null    object \n",
      " 6   ApplicantIncome    614 non-null    int64  \n",
      " 7   CoapplicantIncome  614 non-null    float64\n",
      " 8   LoanAmount         592 non-null    float64\n",
      " 9   Loan_Amount_Term   600 non-null    float64\n",
      " 10  Credit_History     564 non-null    float64\n",
      " 11  Property_Area      614 non-null    object \n",
      " 12  Loan_Status        614 non-null    object \n",
      "dtypes: float64(4), int64(1), object(8)\n",
      "memory usage: 62.5+ KB\n"
     ]
    }
   ],
   "source": [
    "train.info()"
   ]
  },
  {
   "cell_type": "code",
   "execution_count": 6,
   "metadata": {
    "execution": {
     "iopub.execute_input": "2021-01-22T12:42:41.584611Z",
     "iopub.status.busy": "2021-01-22T12:42:41.583848Z",
     "iopub.status.idle": "2021-01-22T12:42:41.589875Z",
     "shell.execute_reply": "2021-01-22T12:42:41.588862Z"
    },
    "papermill": {
     "duration": 0.0613,
     "end_time": "2021-01-22T12:42:41.590009",
     "exception": false,
     "start_time": "2021-01-22T12:42:41.528709",
     "status": "completed"
    },
    "tags": []
   },
   "outputs": [
    {
     "name": "stdout",
     "output_type": "stream",
     "text": [
      "Married: ['No' 'Yes' nan]\n",
      "Dependents: ['0' '1' '2' '3+' nan]\n",
      "Education: ['Graduate' 'Not Graduate']\n",
      "Self_Employed: ['No' 'Yes' nan]\n",
      "Property_Area: ['Urban' 'Rural' 'Semiurban']\n"
     ]
    }
   ],
   "source": [
    "#print the unique values in the object variables\n",
    "print('Married: ' + str(train['Married'].unique()))\n",
    "print('Dependents: '+ str(train['Dependents'].unique()))\n",
    "print('Education: '+ str(train['Education'].unique()))\n",
    "print('Self_Employed: '+ str(train['Self_Employed'].unique()))\n",
    "print('Property_Area: '+ str(train['Property_Area'].unique()))"
   ]
  },
  {
   "cell_type": "code",
   "execution_count": 7,
   "metadata": {
    "execution": {
     "iopub.execute_input": "2021-01-22T12:42:41.689295Z",
     "iopub.status.busy": "2021-01-22T12:42:41.688581Z",
     "iopub.status.idle": "2021-01-22T12:42:41.699244Z",
     "shell.execute_reply": "2021-01-22T12:42:41.697916Z"
    },
    "papermill": {
     "duration": 0.061483,
     "end_time": "2021-01-22T12:42:41.699359",
     "exception": false,
     "start_time": "2021-01-22T12:42:41.637876",
     "status": "completed"
    },
    "tags": []
   },
   "outputs": [
    {
     "name": "stdout",
     "output_type": "stream",
     "text": [
      "Loan status Y    422\n",
      "N    192\n",
      "Name: Loan_Status, dtype: int64\n"
     ]
    }
   ],
   "source": [
    "print('Loan status',train['Loan_Status'].value_counts())\n",
    "\n"
   ]
  },
  {
   "cell_type": "markdown",
   "metadata": {
    "papermill": {
     "duration": 0.048355,
     "end_time": "2021-01-22T12:42:41.798904",
     "exception": false,
     "start_time": "2021-01-22T12:42:41.750549",
     "status": "completed"
    },
    "tags": []
   },
   "source": [
    "The data set is not balanced in outputs"
   ]
  },
  {
   "cell_type": "code",
   "execution_count": 8,
   "metadata": {
    "execution": {
     "iopub.execute_input": "2021-01-22T12:42:41.903933Z",
     "iopub.status.busy": "2021-01-22T12:42:41.903282Z",
     "iopub.status.idle": "2021-01-22T12:42:41.926851Z",
     "shell.execute_reply": "2021-01-22T12:42:41.926303Z"
    },
    "papermill": {
     "duration": 0.079126,
     "end_time": "2021-01-22T12:42:41.926991",
     "exception": false,
     "start_time": "2021-01-22T12:42:41.847865",
     "status": "completed"
    },
    "tags": []
   },
   "outputs": [
    {
     "data": {
      "text/html": [
       "<div>\n",
       "<style scoped>\n",
       "    .dataframe tbody tr th:only-of-type {\n",
       "        vertical-align: middle;\n",
       "    }\n",
       "\n",
       "    .dataframe tbody tr th {\n",
       "        vertical-align: top;\n",
       "    }\n",
       "\n",
       "    .dataframe thead th {\n",
       "        text-align: right;\n",
       "    }\n",
       "</style>\n",
       "<table border=\"1\" class=\"dataframe\">\n",
       "  <thead>\n",
       "    <tr style=\"text-align: right;\">\n",
       "      <th></th>\n",
       "      <th>ApplicantIncome</th>\n",
       "      <th>CoapplicantIncome</th>\n",
       "      <th>LoanAmount</th>\n",
       "      <th>Loan_Amount_Term</th>\n",
       "      <th>Credit_History</th>\n",
       "    </tr>\n",
       "  </thead>\n",
       "  <tbody>\n",
       "    <tr>\n",
       "      <th>count</th>\n",
       "      <td>614.000000</td>\n",
       "      <td>614.000000</td>\n",
       "      <td>592.000000</td>\n",
       "      <td>600.00000</td>\n",
       "      <td>564.000000</td>\n",
       "    </tr>\n",
       "    <tr>\n",
       "      <th>mean</th>\n",
       "      <td>5403.459283</td>\n",
       "      <td>1621.245798</td>\n",
       "      <td>146.412162</td>\n",
       "      <td>342.00000</td>\n",
       "      <td>0.842199</td>\n",
       "    </tr>\n",
       "    <tr>\n",
       "      <th>std</th>\n",
       "      <td>6109.041673</td>\n",
       "      <td>2926.248369</td>\n",
       "      <td>85.587325</td>\n",
       "      <td>65.12041</td>\n",
       "      <td>0.364878</td>\n",
       "    </tr>\n",
       "    <tr>\n",
       "      <th>min</th>\n",
       "      <td>150.000000</td>\n",
       "      <td>0.000000</td>\n",
       "      <td>9.000000</td>\n",
       "      <td>12.00000</td>\n",
       "      <td>0.000000</td>\n",
       "    </tr>\n",
       "    <tr>\n",
       "      <th>25%</th>\n",
       "      <td>2877.500000</td>\n",
       "      <td>0.000000</td>\n",
       "      <td>100.000000</td>\n",
       "      <td>360.00000</td>\n",
       "      <td>1.000000</td>\n",
       "    </tr>\n",
       "    <tr>\n",
       "      <th>50%</th>\n",
       "      <td>3812.500000</td>\n",
       "      <td>1188.500000</td>\n",
       "      <td>128.000000</td>\n",
       "      <td>360.00000</td>\n",
       "      <td>1.000000</td>\n",
       "    </tr>\n",
       "    <tr>\n",
       "      <th>75%</th>\n",
       "      <td>5795.000000</td>\n",
       "      <td>2297.250000</td>\n",
       "      <td>168.000000</td>\n",
       "      <td>360.00000</td>\n",
       "      <td>1.000000</td>\n",
       "    </tr>\n",
       "    <tr>\n",
       "      <th>max</th>\n",
       "      <td>81000.000000</td>\n",
       "      <td>41667.000000</td>\n",
       "      <td>700.000000</td>\n",
       "      <td>480.00000</td>\n",
       "      <td>1.000000</td>\n",
       "    </tr>\n",
       "  </tbody>\n",
       "</table>\n",
       "</div>"
      ],
      "text/plain": [
       "       ApplicantIncome  CoapplicantIncome  LoanAmount  Loan_Amount_Term  \\\n",
       "count       614.000000         614.000000  592.000000         600.00000   \n",
       "mean       5403.459283        1621.245798  146.412162         342.00000   \n",
       "std        6109.041673        2926.248369   85.587325          65.12041   \n",
       "min         150.000000           0.000000    9.000000          12.00000   \n",
       "25%        2877.500000           0.000000  100.000000         360.00000   \n",
       "50%        3812.500000        1188.500000  128.000000         360.00000   \n",
       "75%        5795.000000        2297.250000  168.000000         360.00000   \n",
       "max       81000.000000       41667.000000  700.000000         480.00000   \n",
       "\n",
       "       Credit_History  \n",
       "count      564.000000  \n",
       "mean         0.842199  \n",
       "std          0.364878  \n",
       "min          0.000000  \n",
       "25%          1.000000  \n",
       "50%          1.000000  \n",
       "75%          1.000000  \n",
       "max          1.000000  "
      ]
     },
     "execution_count": 8,
     "metadata": {},
     "output_type": "execute_result"
    }
   ],
   "source": [
    "train.describe()"
   ]
  },
  {
   "cell_type": "markdown",
   "metadata": {
    "papermill": {
     "duration": 0.048895,
     "end_time": "2021-01-22T12:42:42.024617",
     "exception": false,
     "start_time": "2021-01-22T12:42:41.975722",
     "status": "completed"
    },
    "tags": []
   },
   "source": [
    "# Checking the missing values in the dataset"
   ]
  },
  {
   "cell_type": "code",
   "execution_count": 9,
   "metadata": {
    "execution": {
     "iopub.execute_input": "2021-01-22T12:42:42.130694Z",
     "iopub.status.busy": "2021-01-22T12:42:42.127558Z",
     "iopub.status.idle": "2021-01-22T12:42:42.134266Z",
     "shell.execute_reply": "2021-01-22T12:42:42.133673Z"
    },
    "papermill": {
     "duration": 0.061035,
     "end_time": "2021-01-22T12:42:42.134375",
     "exception": false,
     "start_time": "2021-01-22T12:42:42.073340",
     "status": "completed"
    },
    "tags": []
   },
   "outputs": [
    {
     "data": {
      "text/plain": [
       "Credit_History       50\n",
       "Self_Employed        32\n",
       "LoanAmount           22\n",
       "Dependents           15\n",
       "Loan_Amount_Term     14\n",
       "Gender               13\n",
       "Married               3\n",
       "Loan_Status           0\n",
       "Property_Area         0\n",
       "CoapplicantIncome     0\n",
       "ApplicantIncome       0\n",
       "Education             0\n",
       "Loan_ID               0\n",
       "dtype: int64"
      ]
     },
     "execution_count": 9,
     "metadata": {},
     "output_type": "execute_result"
    }
   ],
   "source": [
    "# will look for the missing vlaues in the data\n",
    "train.isnull().sum().sort_values(ascending=False)"
   ]
  },
  {
   "cell_type": "code",
   "execution_count": 10,
   "metadata": {
    "execution": {
     "iopub.execute_input": "2021-01-22T12:42:42.241238Z",
     "iopub.status.busy": "2021-01-22T12:42:42.240552Z",
     "iopub.status.idle": "2021-01-22T12:42:43.676562Z",
     "shell.execute_reply": "2021-01-22T12:42:43.675835Z"
    },
    "papermill": {
     "duration": 1.491858,
     "end_time": "2021-01-22T12:42:43.676687",
     "exception": false,
     "start_time": "2021-01-22T12:42:42.184829",
     "status": "completed"
    },
    "tags": []
   },
   "outputs": [
    {
     "data": {
      "text/plain": [
       "<matplotlib.axes._subplots.AxesSubplot at 0x7f43974ff210>"
      ]
     },
     "execution_count": 10,
     "metadata": {},
     "output_type": "execute_result"
    },
    {
     "data": {
      "image/png": "[encoded data removed]",
      "text/plain": [
       "<Figure size 432x288 with 1 Axes>"
      ]
     },
     "metadata": {
      "needs_background": "light"
     },
     "output_type": "display_data"
    }
   ],
   "source": [
    "#checking the relatioship between the variables and target \n",
    "import seaborn as sns\n",
    "\n",
    "sns.countplot(train['Loan_Status'],hue=train['Credit_History'])"
   ]
  },
  {
   "cell_type": "code",
   "execution_count": 11,
   "metadata": {
    "execution": {
     "iopub.execute_input": "2021-01-22T12:42:43.846246Z",
     "iopub.status.busy": "2021-01-22T12:42:43.843624Z",
     "iopub.status.idle": "2021-01-22T12:42:43.865277Z",
     "shell.execute_reply": "2021-01-22T12:42:43.865892Z"
    },
    "papermill": {
     "duration": 0.112455,
     "end_time": "2021-01-22T12:42:43.866056",
     "exception": false,
     "start_time": "2021-01-22T12:42:43.753601",
     "status": "completed"
    },
    "tags": []
   },
   "outputs": [
    {
     "name": "stdout",
     "output_type": "stream",
     "text": [
      "Loan_Status      N    Y\n",
      "Credit_History         \n",
      "0.0             82    7\n",
      "1.0             97  378\n"
     ]
    }
   ],
   "source": [
    "print(pd.crosstab(train['Credit_History'],train['Loan_Status']))"
   ]
  },
  {
   "cell_type": "code",
   "execution_count": 12,
   "metadata": {
    "execution": {
     "iopub.execute_input": "2021-01-22T12:42:43.975211Z",
     "iopub.status.busy": "2021-01-22T12:42:43.974550Z",
     "iopub.status.idle": "2021-01-22T12:42:43.979428Z",
     "shell.execute_reply": "2021-01-22T12:42:43.978861Z"
    },
    "papermill": {
     "duration": 0.062721,
     "end_time": "2021-01-22T12:42:43.979545",
     "exception": false,
     "start_time": "2021-01-22T12:42:43.916824",
     "status": "completed"
    },
    "tags": []
   },
   "outputs": [
    {
     "data": {
      "text/plain": [
       "1.0    475\n",
       "0.0     89\n",
       "Name: Credit_History, dtype: int64"
      ]
     },
     "execution_count": 12,
     "metadata": {},
     "output_type": "execute_result"
    }
   ],
   "source": [
    "train['Credit_History'].value_counts()"
   ]
  },
  {
   "cell_type": "code",
   "execution_count": 13,
   "metadata": {
    "execution": {
     "iopub.execute_input": "2021-01-22T12:42:44.089944Z",
     "iopub.status.busy": "2021-01-22T12:42:44.089015Z",
     "iopub.status.idle": "2021-01-22T12:42:44.092048Z",
     "shell.execute_reply": "2021-01-22T12:42:44.091508Z"
    },
    "papermill": {
     "duration": 0.060423,
     "end_time": "2021-01-22T12:42:44.092167",
     "exception": false,
     "start_time": "2021-01-22T12:42:44.031744",
     "status": "completed"
    },
    "tags": []
   },
   "outputs": [],
   "source": [
    "#will impute the missing values by 1 since 1 have the most frequesnt values in the dataset\n",
    "train['Credit_History']= train['Credit_History'].fillna(1.0)"
   ]
  },
  {
   "cell_type": "code",
   "execution_count": 14,
   "metadata": {
    "execution": {
     "iopub.execute_input": "2021-01-22T12:42:44.211588Z",
     "iopub.status.busy": "2021-01-22T12:42:44.210670Z",
     "iopub.status.idle": "2021-01-22T12:42:44.347664Z",
     "shell.execute_reply": "2021-01-22T12:42:44.347080Z"
    },
    "papermill": {
     "duration": 0.204444,
     "end_time": "2021-01-22T12:42:44.347777",
     "exception": false,
     "start_time": "2021-01-22T12:42:44.143333",
     "status": "completed"
    },
    "tags": []
   },
   "outputs": [
    {
     "data": {
      "text/plain": [
       "<matplotlib.axes._subplots.AxesSubplot at 0x7f4395325b50>"
      ]
     },
     "execution_count": 14,
     "metadata": {},
     "output_type": "execute_result"
    },
    {
     "data": {
      "image/png": "[encoded data removed]",
      "text/plain": [
       "<Figure size 432x288 with 1 Axes>"
      ]
     },
     "metadata": {
      "needs_background": "light"
     },
     "output_type": "display_data"
    }
   ],
   "source": [
    "sns.countplot(train['Loan_Status'],hue=train['Credit_History'])"
   ]
  },
  {
   "cell_type": "code",
   "execution_count": 15,
   "metadata": {
    "execution": {
     "iopub.execute_input": "2021-01-22T12:42:44.469454Z",
     "iopub.status.busy": "2021-01-22T12:42:44.461021Z",
     "iopub.status.idle": "2021-01-22T12:42:44.601901Z",
     "shell.execute_reply": "2021-01-22T12:42:44.602560Z"
    },
    "papermill": {
     "duration": 0.202539,
     "end_time": "2021-01-22T12:42:44.602726",
     "exception": false,
     "start_time": "2021-01-22T12:42:44.400187",
     "status": "completed"
    },
    "tags": []
   },
   "outputs": [
    {
     "data": {
      "text/plain": [
       "<matplotlib.axes._subplots.AxesSubplot at 0x7f4395245690>"
      ]
     },
     "execution_count": 15,
     "metadata": {},
     "output_type": "execute_result"
    },
    {
     "data": {
      "image/png": "[encoded data removed]",
      "text/plain": [
       "<Figure size 432x288 with 1 Axes>"
      ]
     },
     "metadata": {
      "needs_background": "light"
     },
     "output_type": "display_data"
    }
   ],
   "source": [
    "#next we have self employed column to look \n",
    "sns.countplot(train['Loan_Status'],hue=train['Self_Employed'])"
   ]
  },
  {
   "cell_type": "code",
   "execution_count": 16,
   "metadata": {
    "execution": {
     "iopub.execute_input": "2021-01-22T12:42:44.770499Z",
     "iopub.status.busy": "2021-01-22T12:42:44.769394Z",
     "iopub.status.idle": "2021-01-22T12:42:44.780212Z",
     "shell.execute_reply": "2021-01-22T12:42:44.779229Z"
    },
    "papermill": {
     "duration": 0.094842,
     "end_time": "2021-01-22T12:42:44.780336",
     "exception": false,
     "start_time": "2021-01-22T12:42:44.685494",
     "status": "completed"
    },
    "tags": []
   },
   "outputs": [
    {
     "data": {
      "text/plain": [
       "No     500\n",
       "Yes     82\n",
       "Name: Self_Employed, dtype: int64"
      ]
     },
     "execution_count": 16,
     "metadata": {},
     "output_type": "execute_result"
    }
   ],
   "source": [
    "train.Self_Employed.value_counts()"
   ]
  },
  {
   "cell_type": "code",
   "execution_count": 17,
   "metadata": {
    "execution": {
     "iopub.execute_input": "2021-01-22T12:42:44.894622Z",
     "iopub.status.busy": "2021-01-22T12:42:44.893948Z",
     "iopub.status.idle": "2021-01-22T12:42:44.898122Z",
     "shell.execute_reply": "2021-01-22T12:42:44.897501Z"
    },
    "papermill": {
     "duration": 0.063982,
     "end_time": "2021-01-22T12:42:44.898228",
     "exception": false,
     "start_time": "2021-01-22T12:42:44.834246",
     "status": "completed"
    },
    "tags": []
   },
   "outputs": [],
   "source": [
    "\n",
    "#fill the missing values by No in data set\n",
    "train['Self_Employed']= train['Self_Employed'].fillna('No')"
   ]
  },
  {
   "cell_type": "code",
   "execution_count": 18,
   "metadata": {
    "execution": {
     "iopub.execute_input": "2021-01-22T12:42:45.012503Z",
     "iopub.status.busy": "2021-01-22T12:42:45.011712Z",
     "iopub.status.idle": "2021-01-22T12:42:45.153348Z",
     "shell.execute_reply": "2021-01-22T12:42:45.152651Z"
    },
    "papermill": {
     "duration": 0.200785,
     "end_time": "2021-01-22T12:42:45.153483",
     "exception": false,
     "start_time": "2021-01-22T12:42:44.952698",
     "status": "completed"
    },
    "tags": []
   },
   "outputs": [
    {
     "data": {
      "text/plain": [
       "<matplotlib.axes._subplots.AxesSubplot at 0x7f43951b65d0>"
      ]
     },
     "execution_count": 18,
     "metadata": {},
     "output_type": "execute_result"
    },
    {
     "data": {
      "image/png": "[encoded data removed]",
      "text/plain": [
       "<Figure size 432x288 with 1 Axes>"
      ]
     },
     "metadata": {
      "needs_background": "light"
     },
     "output_type": "display_data"
    }
   ],
   "source": [
    "sns.countplot(train['Loan_Status'],hue=train['Self_Employed'])"
   ]
  },
  {
   "cell_type": "markdown",
   "metadata": {
    "papermill": {
     "duration": 0.084094,
     "end_time": "2021-01-22T12:42:45.322412",
     "exception": false,
     "start_time": "2021-01-22T12:42:45.238318",
     "status": "completed"
    },
    "tags": []
   },
   "source": [
    "Next we have Loan amount variable to look and since its a numerical variable we will look for scatter plot"
   ]
  },
  {
   "cell_type": "code",
   "execution_count": 19,
   "metadata": {
    "execution": {
     "iopub.execute_input": "2021-01-22T12:42:45.500691Z",
     "iopub.status.busy": "2021-01-22T12:42:45.496757Z",
     "iopub.status.idle": "2021-01-22T12:42:45.632737Z",
     "shell.execute_reply": "2021-01-22T12:42:45.631844Z"
    },
    "papermill": {
     "duration": 0.225705,
     "end_time": "2021-01-22T12:42:45.632880",
     "exception": false,
     "start_time": "2021-01-22T12:42:45.407175",
     "status": "completed"
    },
    "tags": []
   },
   "outputs": [
    {
     "data": {
      "text/plain": [
       "<matplotlib.collections.PathCollection at 0x7f4395155590>"
      ]
     },
     "execution_count": 19,
     "metadata": {},
     "output_type": "execute_result"
    },
    {
     "data": {
      "image/png": "[encoded data removed]",
      "text/plain": [
       "<Figure size 432x288 with 1 Axes>"
      ]
     },
     "metadata": {
      "needs_background": "light"
     },
     "output_type": "display_data"
    }
   ],
   "source": [
    "plt.scatter(train['Loan_Status'],train['LoanAmount'])"
   ]
  },
  {
   "cell_type": "code",
   "execution_count": 20,
   "metadata": {
    "execution": {
     "iopub.execute_input": "2021-01-22T12:42:45.787679Z",
     "iopub.status.busy": "2021-01-22T12:42:45.786818Z",
     "iopub.status.idle": "2021-01-22T12:42:45.789428Z",
     "shell.execute_reply": "2021-01-22T12:42:45.788701Z"
    },
    "papermill": {
     "duration": 0.084152,
     "end_time": "2021-01-22T12:42:45.789566",
     "exception": false,
     "start_time": "2021-01-22T12:42:45.705414",
     "status": "completed"
    },
    "tags": []
   },
   "outputs": [],
   "source": [
    "#will fill the missing values with the mean value\n",
    "train['LoanAmount']=train['LoanAmount'].fillna(train.LoanAmount.mean())"
   ]
  },
  {
   "cell_type": "code",
   "execution_count": 21,
   "metadata": {
    "execution": {
     "iopub.execute_input": "2021-01-22T12:42:45.965693Z",
     "iopub.status.busy": "2021-01-22T12:42:45.964843Z",
     "iopub.status.idle": "2021-01-22T12:42:45.967887Z",
     "shell.execute_reply": "2021-01-22T12:42:45.968574Z"
    },
    "papermill": {
     "duration": 0.09854,
     "end_time": "2021-01-22T12:42:45.968721",
     "exception": false,
     "start_time": "2021-01-22T12:42:45.870181",
     "status": "completed"
    },
    "tags": []
   },
   "outputs": [
    {
     "data": {
      "text/plain": [
       "Dependents           15\n",
       "Loan_Amount_Term     14\n",
       "Gender               13\n",
       "Married               3\n",
       "Loan_Status           0\n",
       "Property_Area         0\n",
       "Credit_History        0\n",
       "LoanAmount            0\n",
       "CoapplicantIncome     0\n",
       "ApplicantIncome       0\n",
       "Self_Employed         0\n",
       "Education             0\n",
       "Loan_ID               0\n",
       "dtype: int64"
      ]
     },
     "execution_count": 21,
     "metadata": {},
     "output_type": "execute_result"
    }
   ],
   "source": [
    "train.isnull().sum().sort_values(ascending=False)"
   ]
  },
  {
   "cell_type": "code",
   "execution_count": 22,
   "metadata": {
    "execution": {
     "iopub.execute_input": "2021-01-22T12:42:46.148273Z",
     "iopub.status.busy": "2021-01-22T12:42:46.147604Z",
     "iopub.status.idle": "2021-01-22T12:42:46.152633Z",
     "shell.execute_reply": "2021-01-22T12:42:46.152133Z"
    },
    "papermill": {
     "duration": 0.097119,
     "end_time": "2021-01-22T12:42:46.152740",
     "exception": false,
     "start_time": "2021-01-22T12:42:46.055621",
     "status": "completed"
    },
    "tags": []
   },
   "outputs": [
    {
     "data": {
      "text/plain": [
       "0.024429967426710098"
      ]
     },
     "execution_count": 22,
     "metadata": {},
     "output_type": "execute_result"
    }
   ],
   "source": [
    "train['Dependents'].isnull().sum()/len(train['Dependents'])"
   ]
  },
  {
   "cell_type": "code",
   "execution_count": 23,
   "metadata": {
    "execution": {
     "iopub.execute_input": "2021-01-22T12:42:46.281841Z",
     "iopub.status.busy": "2021-01-22T12:42:46.281019Z",
     "iopub.status.idle": "2021-01-22T12:42:46.284364Z",
     "shell.execute_reply": "2021-01-22T12:42:46.283675Z"
    },
    "papermill": {
     "duration": 0.07364,
     "end_time": "2021-01-22T12:42:46.284508",
     "exception": false,
     "start_time": "2021-01-22T12:42:46.210868",
     "status": "completed"
    },
    "tags": []
   },
   "outputs": [],
   "source": [
    "#drop the other missing values from the data\n",
    "train.dropna(inplace=True)"
   ]
  },
  {
   "cell_type": "code",
   "execution_count": 24,
   "metadata": {
    "execution": {
     "iopub.execute_input": "2021-01-22T12:42:46.464753Z",
     "iopub.status.busy": "2021-01-22T12:42:46.463902Z",
     "iopub.status.idle": "2021-01-22T12:42:46.490138Z",
     "shell.execute_reply": "2021-01-22T12:42:46.489330Z"
    },
    "papermill": {
     "duration": 0.117938,
     "end_time": "2021-01-22T12:42:46.490273",
     "exception": false,
     "start_time": "2021-01-22T12:42:46.372335",
     "status": "completed"
    },
    "tags": []
   },
   "outputs": [
    {
     "data": {
      "text/html": [
       "<div>\n",
       "<style scoped>\n",
       "    .dataframe tbody tr th:only-of-type {\n",
       "        vertical-align: middle;\n",
       "    }\n",
       "\n",
       "    .dataframe tbody tr th {\n",
       "        vertical-align: top;\n",
       "    }\n",
       "\n",
       "    .dataframe thead th {\n",
       "        text-align: right;\n",
       "    }\n",
       "</style>\n",
       "<table border=\"1\" class=\"dataframe\">\n",
       "  <thead>\n",
       "    <tr style=\"text-align: right;\">\n",
       "      <th></th>\n",
       "      <th>ApplicantIncome</th>\n",
       "      <th>CoapplicantIncome</th>\n",
       "      <th>LoanAmount</th>\n",
       "      <th>Loan_Amount_Term</th>\n",
       "      <th>Credit_History</th>\n",
       "    </tr>\n",
       "  </thead>\n",
       "  <tbody>\n",
       "    <tr>\n",
       "      <th>count</th>\n",
       "      <td>573.000000</td>\n",
       "      <td>573.000000</td>\n",
       "      <td>573.000000</td>\n",
       "      <td>573.000000</td>\n",
       "      <td>573.000000</td>\n",
       "    </tr>\n",
       "    <tr>\n",
       "      <th>mean</th>\n",
       "      <td>5328.514834</td>\n",
       "      <td>1641.359372</td>\n",
       "      <td>146.016131</td>\n",
       "      <td>341.675393</td>\n",
       "      <td>0.869110</td>\n",
       "    </tr>\n",
       "    <tr>\n",
       "      <th>std</th>\n",
       "      <td>5909.329219</td>\n",
       "      <td>3001.139055</td>\n",
       "      <td>82.569554</td>\n",
       "      <td>65.186012</td>\n",
       "      <td>0.337575</td>\n",
       "    </tr>\n",
       "    <tr>\n",
       "      <th>min</th>\n",
       "      <td>150.000000</td>\n",
       "      <td>0.000000</td>\n",
       "      <td>9.000000</td>\n",
       "      <td>12.000000</td>\n",
       "      <td>0.000000</td>\n",
       "    </tr>\n",
       "    <tr>\n",
       "      <th>25%</th>\n",
       "      <td>2876.000000</td>\n",
       "      <td>0.000000</td>\n",
       "      <td>100.000000</td>\n",
       "      <td>360.000000</td>\n",
       "      <td>1.000000</td>\n",
       "    </tr>\n",
       "    <tr>\n",
       "      <th>50%</th>\n",
       "      <td>3812.000000</td>\n",
       "      <td>1210.000000</td>\n",
       "      <td>129.000000</td>\n",
       "      <td>360.000000</td>\n",
       "      <td>1.000000</td>\n",
       "    </tr>\n",
       "    <tr>\n",
       "      <th>75%</th>\n",
       "      <td>5815.000000</td>\n",
       "      <td>2302.000000</td>\n",
       "      <td>165.000000</td>\n",
       "      <td>360.000000</td>\n",
       "      <td>1.000000</td>\n",
       "    </tr>\n",
       "    <tr>\n",
       "      <th>max</th>\n",
       "      <td>81000.000000</td>\n",
       "      <td>41667.000000</td>\n",
       "      <td>650.000000</td>\n",
       "      <td>480.000000</td>\n",
       "      <td>1.000000</td>\n",
       "    </tr>\n",
       "  </tbody>\n",
       "</table>\n",
       "</div>"
      ],
      "text/plain": [
       "       ApplicantIncome  CoapplicantIncome  LoanAmount  Loan_Amount_Term  \\\n",
       "count       573.000000         573.000000  573.000000        573.000000   \n",
       "mean       5328.514834        1641.359372  146.016131        341.675393   \n",
       "std        5909.329219        3001.139055   82.569554         65.186012   \n",
       "min         150.000000           0.000000    9.000000         12.000000   \n",
       "25%        2876.000000           0.000000  100.000000        360.000000   \n",
       "50%        3812.000000        1210.000000  129.000000        360.000000   \n",
       "75%        5815.000000        2302.000000  165.000000        360.000000   \n",
       "max       81000.000000       41667.000000  650.000000        480.000000   \n",
       "\n",
       "       Credit_History  \n",
       "count      573.000000  \n",
       "mean         0.869110  \n",
       "std          0.337575  \n",
       "min          0.000000  \n",
       "25%          1.000000  \n",
       "50%          1.000000  \n",
       "75%          1.000000  \n",
       "max          1.000000  "
      ]
     },
     "execution_count": 24,
     "metadata": {},
     "output_type": "execute_result"
    }
   ],
   "source": [
    "train.describe()"
   ]
  },
  {
   "cell_type": "markdown",
   "metadata": {
    "papermill": {
     "duration": 0.08804,
     "end_time": "2021-01-22T12:42:46.666879",
     "exception": false,
     "start_time": "2021-01-22T12:42:46.578839",
     "status": "completed"
    },
    "tags": []
   },
   "source": [
    "#  Handling the outliers from the dataset "
   ]
  },
  {
   "cell_type": "code",
   "execution_count": 25,
   "metadata": {
    "execution": {
     "iopub.execute_input": "2021-01-22T12:42:46.851879Z",
     "iopub.status.busy": "2021-01-22T12:42:46.851083Z",
     "iopub.status.idle": "2021-01-22T12:42:47.039698Z",
     "shell.execute_reply": "2021-01-22T12:42:47.040654Z"
    },
    "papermill": {
     "duration": 0.284981,
     "end_time": "2021-01-22T12:42:47.040795",
     "exception": false,
     "start_time": "2021-01-22T12:42:46.755814",
     "status": "completed"
    },
    "tags": []
   },
   "outputs": [
    {
     "data": {
      "text/plain": [
       "{'whiskers': [<matplotlib.lines.Line2D at 0x7f43951a8410>,\n",
       "  <matplotlib.lines.Line2D at 0x7f439510a050>],\n",
       " 'caps': [<matplotlib.lines.Line2D at 0x7f4395197a50>,\n",
       "  <matplotlib.lines.Line2D at 0x7f4395115490>],\n",
       " 'boxes': [<matplotlib.lines.Line2D at 0x7f439512b990>],\n",
       " 'medians': [<matplotlib.lines.Line2D at 0x7f4395121410>],\n",
       " 'fliers': [<matplotlib.lines.Line2D at 0x7f4395121790>],\n",
       " 'means': []}"
      ]
     },
     "execution_count": 25,
     "metadata": {},
     "output_type": "execute_result"
    },
    {
     "data": {
      "image/png": "[encoded data removed]",
      "text/plain": [
       "<Figure size 432x288 with 1 Axes>"
      ]
     },
     "metadata": {
      "needs_background": "light"
     },
     "output_type": "display_data"
    }
   ],
   "source": [
    "plt.boxplot(train['ApplicantIncome'])"
   ]
  },
  {
   "cell_type": "code",
   "execution_count": 26,
   "metadata": {
    "execution": {
     "iopub.execute_input": "2021-01-22T12:42:47.171600Z",
     "iopub.status.busy": "2021-01-22T12:42:47.166928Z",
     "iopub.status.idle": "2021-01-22T12:42:47.274200Z",
     "shell.execute_reply": "2021-01-22T12:42:47.274673Z"
    },
    "papermill": {
     "duration": 0.173969,
     "end_time": "2021-01-22T12:42:47.274811",
     "exception": false,
     "start_time": "2021-01-22T12:42:47.100842",
     "status": "completed"
    },
    "tags": []
   },
   "outputs": [
    {
     "data": {
      "text/plain": [
       "{'whiskers': [<matplotlib.lines.Line2D at 0x7f4395106510>,\n",
       "  <matplotlib.lines.Line2D at 0x7f439502f690>],\n",
       " 'caps': [<matplotlib.lines.Line2D at 0x7f439502fbd0>,\n",
       "  <matplotlib.lines.Line2D at 0x7f4395035150>],\n",
       " 'boxes': [<matplotlib.lines.Line2D at 0x7f4395027b90>],\n",
       " 'medians': [<matplotlib.lines.Line2D at 0x7f43950356d0>],\n",
       " 'fliers': [<matplotlib.lines.Line2D at 0x7f4395035c10>],\n",
       " 'means': []}"
      ]
     },
     "execution_count": 26,
     "metadata": {},
     "output_type": "execute_result"
    },
    {
     "data": {
      "image/png": "[encoded data removed]",
      "text/plain": [
       "<Figure size 432x288 with 1 Axes>"
      ]
     },
     "metadata": {
      "needs_background": "light"
     },
     "output_type": "display_data"
    }
   ],
   "source": [
    "plt.boxplot(train['CoapplicantIncome'])"
   ]
  },
  {
   "cell_type": "code",
   "execution_count": 27,
   "metadata": {
    "execution": {
     "iopub.execute_input": "2021-01-22T12:42:47.405545Z",
     "iopub.status.busy": "2021-01-22T12:42:47.404827Z",
     "iopub.status.idle": "2021-01-22T12:42:47.409328Z",
     "shell.execute_reply": "2021-01-22T12:42:47.408686Z"
    },
    "papermill": {
     "duration": 0.072443,
     "end_time": "2021-01-22T12:42:47.409437",
     "exception": false,
     "start_time": "2021-01-22T12:42:47.336994",
     "status": "completed"
    },
    "tags": []
   },
   "outputs": [],
   "source": [
    "#creating a new variable called total income by adding applicant income + coapplicant income\n",
    "\n",
    "train['TotalIncome']= train['ApplicantIncome']+train['CoapplicantIncome']"
   ]
  },
  {
   "cell_type": "code",
   "execution_count": 28,
   "metadata": {
    "execution": {
     "iopub.execute_input": "2021-01-22T12:42:47.542277Z",
     "iopub.status.busy": "2021-01-22T12:42:47.540399Z",
     "iopub.status.idle": "2021-01-22T12:42:47.690988Z",
     "shell.execute_reply": "2021-01-22T12:42:47.690133Z"
    },
    "papermill": {
     "duration": 0.219633,
     "end_time": "2021-01-22T12:42:47.691129",
     "exception": false,
     "start_time": "2021-01-22T12:42:47.471496",
     "status": "completed"
    },
    "tags": []
   },
   "outputs": [
    {
     "data": {
      "text/plain": [
       "<matplotlib.axes._subplots.AxesSubplot at 0x7f4395059b90>"
      ]
     },
     "execution_count": 28,
     "metadata": {},
     "output_type": "execute_result"
    },
    {
     "data": {
      "image/png": "[encoded data removed]",
      "text/plain": [
       "<Figure size 432x288 with 1 Axes>"
      ]
     },
     "metadata": {
      "needs_background": "light"
     },
     "output_type": "display_data"
    }
   ],
   "source": [
    "sns.boxplot(x='Education',y='ApplicantIncome',data=train)"
   ]
  },
  {
   "cell_type": "markdown",
   "metadata": {
    "papermill": {
     "duration": 0.094063,
     "end_time": "2021-01-22T12:42:47.880786",
     "exception": false,
     "start_time": "2021-01-22T12:42:47.786723",
     "status": "completed"
    },
    "tags": []
   },
   "source": [
    "We can see that graduate people also having same outliers since they are graduate their income must be higher we will chekck the same with coapplicant income"
   ]
  },
  {
   "cell_type": "code",
   "execution_count": 29,
   "metadata": {
    "execution": {
     "iopub.execute_input": "2021-01-22T12:42:48.087997Z",
     "iopub.status.busy": "2021-01-22T12:42:48.084103Z",
     "iopub.status.idle": "2021-01-22T12:42:48.328060Z",
     "shell.execute_reply": "2021-01-22T12:42:48.327040Z"
    },
    "papermill": {
     "duration": 0.353417,
     "end_time": "2021-01-22T12:42:48.328174",
     "exception": false,
     "start_time": "2021-01-22T12:42:47.974757",
     "status": "completed"
    },
    "tags": []
   },
   "outputs": [
    {
     "data": {
      "text/plain": [
       "<matplotlib.axes._subplots.AxesSubplot at 0x7f4394fd1910>"
      ]
     },
     "execution_count": 29,
     "metadata": {},
     "output_type": "execute_result"
    },
    {
     "data": {
      "image/png": "[encoded data removed]",
      "text/plain": [
       "<Figure size 432x288 with 1 Axes>"
      ]
     },
     "metadata": {
      "needs_background": "light"
     },
     "output_type": "display_data"
    }
   ],
   "source": [
    "sns.distplot(train.TotalIncome,kde=False)"
   ]
  },
  {
   "cell_type": "code",
   "execution_count": 30,
   "metadata": {
    "execution": {
     "iopub.execute_input": "2021-01-22T12:42:48.465813Z",
     "iopub.status.busy": "2021-01-22T12:42:48.465195Z",
     "iopub.status.idle": "2021-01-22T12:42:48.468582Z",
     "shell.execute_reply": "2021-01-22T12:42:48.467882Z"
    },
    "papermill": {
     "duration": 0.076788,
     "end_time": "2021-01-22T12:42:48.468688",
     "exception": false,
     "start_time": "2021-01-22T12:42:48.391900",
     "status": "completed"
    },
    "tags": []
   },
   "outputs": [],
   "source": [
    "\n",
    "train = train.drop(columns=['Loan_ID'],axis=1)"
   ]
  },
  {
   "cell_type": "code",
   "execution_count": 31,
   "metadata": {
    "execution": {
     "iopub.execute_input": "2021-01-22T12:42:48.614720Z",
     "iopub.status.busy": "2021-01-22T12:42:48.606439Z",
     "iopub.status.idle": "2021-01-22T12:42:48.619252Z",
     "shell.execute_reply": "2021-01-22T12:42:48.620103Z"
    },
    "papermill": {
     "duration": 0.087719,
     "end_time": "2021-01-22T12:42:48.620267",
     "exception": false,
     "start_time": "2021-01-22T12:42:48.532548",
     "status": "completed"
    },
    "tags": []
   },
   "outputs": [],
   "source": [
    "#Next, make all other columns numerical as well. \n",
    "train['Married'] = np.where((train['Married'] == 'Yes'), 1, 0)\n",
    "train['Gender'] = np.where((train['Gender'] == 'Female'), 1, 0)\n",
    "train['Education'] = np.where((train['Education'] == 'Graduate'), 1, 0)\n",
    "train['Self_Employed'] = np.where((train['Self_Employed'] == 'Yes'), 1, 0)\n",
    "train['Dependents'] = np.where((train['Dependents'] == '0'), 0, 1)\n",
    "train['Loan_Status'] = np.where((train['Loan_Status'] == 'Y'), 1, 0)"
   ]
  },
  {
   "cell_type": "code",
   "execution_count": 32,
   "metadata": {
    "execution": {
     "iopub.execute_input": "2021-01-22T12:42:48.820201Z",
     "iopub.status.busy": "2021-01-22T12:42:48.818580Z",
     "iopub.status.idle": "2021-01-22T12:42:48.824533Z",
     "shell.execute_reply": "2021-01-22T12:42:48.823863Z"
    },
    "papermill": {
     "duration": 0.107489,
     "end_time": "2021-01-22T12:42:48.824634",
     "exception": false,
     "start_time": "2021-01-22T12:42:48.717145",
     "status": "completed"
    },
    "tags": []
   },
   "outputs": [
    {
     "data": {
      "text/plain": [
       "Semiurban    219\n",
       "Urban        185\n",
       "Rural        169\n",
       "Name: Property_Area, dtype: int64"
      ]
     },
     "execution_count": 32,
     "metadata": {},
     "output_type": "execute_result"
    }
   ],
   "source": [
    "train['Property_Area'].value_counts()"
   ]
  },
  {
   "cell_type": "code",
   "execution_count": 33,
   "metadata": {
    "execution": {
     "iopub.execute_input": "2021-01-22T12:42:48.957363Z",
     "iopub.status.busy": "2021-01-22T12:42:48.956687Z",
     "iopub.status.idle": "2021-01-22T12:42:49.019618Z",
     "shell.execute_reply": "2021-01-22T12:42:49.020192Z"
    },
    "papermill": {
     "duration": 0.132034,
     "end_time": "2021-01-22T12:42:49.020335",
     "exception": false,
     "start_time": "2021-01-22T12:42:48.888301",
     "status": "completed"
    },
    "tags": []
   },
   "outputs": [],
   "source": [
    "#Doing label encoding the categorical features\n",
    "from sklearn import preprocessing\n",
    "le = preprocessing.LabelEncoder()\n",
    "train['Property_Area']=le.fit_transform(train['Property_Area'])"
   ]
  },
  {
   "cell_type": "code",
   "execution_count": 34,
   "metadata": {
    "execution": {
     "iopub.execute_input": "2021-01-22T12:42:49.124497Z",
     "iopub.status.busy": "2021-01-22T12:42:49.123603Z",
     "iopub.status.idle": "2021-01-22T12:42:49.140114Z",
     "shell.execute_reply": "2021-01-22T12:42:49.139523Z"
    },
    "papermill": {
     "duration": 0.069835,
     "end_time": "2021-01-22T12:42:49.140225",
     "exception": false,
     "start_time": "2021-01-22T12:42:49.070390",
     "status": "completed"
    },
    "tags": []
   },
   "outputs": [
    {
     "data": {
      "text/html": [
       "<div>\n",
       "<style scoped>\n",
       "    .dataframe tbody tr th:only-of-type {\n",
       "        vertical-align: middle;\n",
       "    }\n",
       "\n",
       "    .dataframe tbody tr th {\n",
       "        vertical-align: top;\n",
       "    }\n",
       "\n",
       "    .dataframe thead th {\n",
       "        text-align: right;\n",
       "    }\n",
       "</style>\n",
       "<table border=\"1\" class=\"dataframe\">\n",
       "  <thead>\n",
       "    <tr style=\"text-align: right;\">\n",
       "      <th></th>\n",
       "      <th>Gender</th>\n",
       "      <th>Married</th>\n",
       "      <th>Dependents</th>\n",
       "      <th>Education</th>\n",
       "      <th>Self_Employed</th>\n",
       "      <th>ApplicantIncome</th>\n",
       "      <th>CoapplicantIncome</th>\n",
       "      <th>LoanAmount</th>\n",
       "      <th>Loan_Amount_Term</th>\n",
       "      <th>Credit_History</th>\n",
       "      <th>Property_Area</th>\n",
       "      <th>Loan_Status</th>\n",
       "      <th>TotalIncome</th>\n",
       "    </tr>\n",
       "  </thead>\n",
       "  <tbody>\n",
       "    <tr>\n",
       "      <th>0</th>\n",
       "      <td>0</td>\n",
       "      <td>0</td>\n",
       "      <td>0</td>\n",
       "      <td>1</td>\n",
       "      <td>0</td>\n",
       "      <td>5849</td>\n",
       "      <td>0.0</td>\n",
       "      <td>146.412162</td>\n",
       "      <td>360.0</td>\n",
       "      <td>1.0</td>\n",
       "      <td>2</td>\n",
       "      <td>1</td>\n",
       "      <td>5849.0</td>\n",
       "    </tr>\n",
       "    <tr>\n",
       "      <th>1</th>\n",
       "      <td>0</td>\n",
       "      <td>1</td>\n",
       "      <td>1</td>\n",
       "      <td>1</td>\n",
       "      <td>0</td>\n",
       "      <td>4583</td>\n",
       "      <td>1508.0</td>\n",
       "      <td>128.000000</td>\n",
       "      <td>360.0</td>\n",
       "      <td>1.0</td>\n",
       "      <td>0</td>\n",
       "      <td>0</td>\n",
       "      <td>6091.0</td>\n",
       "    </tr>\n",
       "    <tr>\n",
       "      <th>2</th>\n",
       "      <td>0</td>\n",
       "      <td>1</td>\n",
       "      <td>0</td>\n",
       "      <td>1</td>\n",
       "      <td>1</td>\n",
       "      <td>3000</td>\n",
       "      <td>0.0</td>\n",
       "      <td>66.000000</td>\n",
       "      <td>360.0</td>\n",
       "      <td>1.0</td>\n",
       "      <td>2</td>\n",
       "      <td>1</td>\n",
       "      <td>3000.0</td>\n",
       "    </tr>\n",
       "    <tr>\n",
       "      <th>3</th>\n",
       "      <td>0</td>\n",
       "      <td>1</td>\n",
       "      <td>0</td>\n",
       "      <td>0</td>\n",
       "      <td>0</td>\n",
       "      <td>2583</td>\n",
       "      <td>2358.0</td>\n",
       "      <td>120.000000</td>\n",
       "      <td>360.0</td>\n",
       "      <td>1.0</td>\n",
       "      <td>2</td>\n",
       "      <td>1</td>\n",
       "      <td>4941.0</td>\n",
       "    </tr>\n",
       "    <tr>\n",
       "      <th>4</th>\n",
       "      <td>0</td>\n",
       "      <td>0</td>\n",
       "      <td>0</td>\n",
       "      <td>1</td>\n",
       "      <td>0</td>\n",
       "      <td>6000</td>\n",
       "      <td>0.0</td>\n",
       "      <td>141.000000</td>\n",
       "      <td>360.0</td>\n",
       "      <td>1.0</td>\n",
       "      <td>2</td>\n",
       "      <td>1</td>\n",
       "      <td>6000.0</td>\n",
       "    </tr>\n",
       "  </tbody>\n",
       "</table>\n",
       "</div>"
      ],
      "text/plain": [
       "   Gender  Married  Dependents  Education  Self_Employed  ApplicantIncome  \\\n",
       "0       0        0           0          1              0             5849   \n",
       "1       0        1           1          1              0             4583   \n",
       "2       0        1           0          1              1             3000   \n",
       "3       0        1           0          0              0             2583   \n",
       "4       0        0           0          1              0             6000   \n",
       "\n",
       "   CoapplicantIncome  LoanAmount  Loan_Amount_Term  Credit_History  \\\n",
       "0                0.0  146.412162             360.0             1.0   \n",
       "1             1508.0  128.000000             360.0             1.0   \n",
       "2                0.0   66.000000             360.0             1.0   \n",
       "3             2358.0  120.000000             360.0             1.0   \n",
       "4                0.0  141.000000             360.0             1.0   \n",
       "\n",
       "   Property_Area  Loan_Status  TotalIncome  \n",
       "0              2            1       5849.0  \n",
       "1              0            0       6091.0  \n",
       "2              2            1       3000.0  \n",
       "3              2            1       4941.0  \n",
       "4              2            1       6000.0  "
      ]
     },
     "execution_count": 34,
     "metadata": {},
     "output_type": "execute_result"
    }
   ],
   "source": [
    "train.head()"
   ]
  },
  {
   "cell_type": "code",
   "execution_count": 35,
   "metadata": {
    "execution": {
     "iopub.execute_input": "2021-01-22T12:42:49.280144Z",
     "iopub.status.busy": "2021-01-22T12:42:49.279512Z",
     "iopub.status.idle": "2021-01-22T12:42:49.283544Z",
     "shell.execute_reply": "2021-01-22T12:42:49.283065Z"
    },
    "papermill": {
     "duration": 0.077829,
     "end_time": "2021-01-22T12:42:49.283642",
     "exception": false,
     "start_time": "2021-01-22T12:42:49.205813",
     "status": "completed"
    },
    "tags": []
   },
   "outputs": [],
   "source": [
    "y= train['Loan_Status']\n",
    "X= train.drop(columns=['Loan_Status'])"
   ]
  },
  {
   "cell_type": "markdown",
   "metadata": {
    "papermill": {
     "duration": 0.064035,
     "end_time": "2021-01-22T12:42:49.413257",
     "exception": false,
     "start_time": "2021-01-22T12:42:49.349222",
     "status": "completed"
    },
    "tags": []
   },
   "source": [
    "Selecting Important features "
   ]
  },
  {
   "cell_type": "code",
   "execution_count": 36,
   "metadata": {
    "execution": {
     "iopub.execute_input": "2021-01-22T12:42:49.553642Z",
     "iopub.status.busy": "2021-01-22T12:42:49.552781Z",
     "iopub.status.idle": "2021-01-22T12:42:49.783754Z",
     "shell.execute_reply": "2021-01-22T12:42:49.784294Z"
    },
    "papermill": {
     "duration": 0.305732,
     "end_time": "2021-01-22T12:42:49.784436",
     "exception": false,
     "start_time": "2021-01-22T12:42:49.478704",
     "status": "completed"
    },
    "tags": []
   },
   "outputs": [
    {
     "name": "stdout",
     "output_type": "stream",
     "text": [
      "   Name of the column         Score\n",
      "6   CoapplicantIncome  13483.850271\n",
      "11        TotalIncome  11695.570410\n",
      "5     ApplicantIncome   3509.190756\n",
      "7          LoanAmount     98.723124\n",
      "9      Credit_History     19.248679\n",
      "1             Married      2.015821\n",
      "3           Education      0.579009\n",
      "10      Property_Area      0.379558\n",
      "8    Loan_Amount_Term      0.363129\n",
      "0              Gender      0.306793\n"
     ]
    }
   ],
   "source": [
    "from sklearn.feature_selection import SelectKBest\n",
    "from sklearn.feature_selection import chi2\n",
    "\n",
    "#apply SelectKBest class to extract top 10 best features\n",
    "bestfeatures = SelectKBest(score_func=chi2, k='all')\n",
    "fit = bestfeatures.fit(X,y)\n",
    "dfscores = pd.DataFrame(fit.scores_)\n",
    "dfcolumns = pd.DataFrame(X.columns)\n",
    "#concat two dataframes for better visualization \n",
    "featureScores = pd.concat([dfcolumns,dfscores],axis=1)\n",
    "featureScores.columns = ['Name of the column','Score']  #naming the dataframe columns\n",
    "print(featureScores.nlargest(10,'Score'))"
   ]
  },
  {
   "cell_type": "code",
   "execution_count": 37,
   "metadata": {
    "execution": {
     "iopub.execute_input": "2021-01-22T12:42:49.928176Z",
     "iopub.status.busy": "2021-01-22T12:42:49.927253Z",
     "iopub.status.idle": "2021-01-22T12:42:50.682661Z",
     "shell.execute_reply": "2021-01-22T12:42:50.683237Z"
    },
    "papermill": {
     "duration": 0.832815,
     "end_time": "2021-01-22T12:42:50.683374",
     "exception": false,
     "start_time": "2021-01-22T12:42:49.850559",
     "status": "completed"
    },
    "tags": []
   },
   "outputs": [
    {
     "data": {
      "image/png": "[encoded data removed]",
      "text/plain": [
       "<Figure size 720x720 with 2 Axes>"
      ]
     },
     "metadata": {
      "needs_background": "light"
     },
     "output_type": "display_data"
    }
   ],
   "source": [
    "corrmat = train.corr()\n",
    "top_corr_features = corrmat.index\n",
    "plt.figure(figsize=(10,10))\n",
    "\n",
    "#plot heat map\n",
    "g=sns.heatmap(train[top_corr_features].corr(),annot=True,cmap=\"RdYlGn\")"
   ]
  },
  {
   "cell_type": "markdown",
   "metadata": {
    "papermill": {
     "duration": 0.070776,
     "end_time": "2021-01-22T12:42:50.824364",
     "exception": false,
     "start_time": "2021-01-22T12:42:50.753588",
     "status": "completed"
    },
    "tags": []
   },
   "source": [
    "Married,credit history,coapplicantincome,loan amount,total income having high importance in variables list"
   ]
  },
  {
   "cell_type": "code",
   "execution_count": 38,
   "metadata": {
    "execution": {
     "iopub.execute_input": "2021-01-22T12:42:50.973375Z",
     "iopub.status.busy": "2021-01-22T12:42:50.970161Z",
     "iopub.status.idle": "2021-01-22T12:42:50.978236Z",
     "shell.execute_reply": "2021-01-22T12:42:50.978715Z"
    },
    "papermill": {
     "duration": 0.082714,
     "end_time": "2021-01-22T12:42:50.978854",
     "exception": false,
     "start_time": "2021-01-22T12:42:50.896140",
     "status": "completed"
    },
    "tags": []
   },
   "outputs": [],
   "source": [
    "X= X[['Married','Credit_History','TotalIncome','CoapplicantIncome','LoanAmount','ApplicantIncome']]"
   ]
  },
  {
   "cell_type": "code",
   "execution_count": 39,
   "metadata": {
    "execution": {
     "iopub.execute_input": "2021-01-22T12:42:51.133523Z",
     "iopub.status.busy": "2021-01-22T12:42:51.132718Z",
     "iopub.status.idle": "2021-01-22T12:42:51.140061Z",
     "shell.execute_reply": "2021-01-22T12:42:51.139370Z"
    },
    "papermill": {
     "duration": 0.089993,
     "end_time": "2021-01-22T12:42:51.140181",
     "exception": false,
     "start_time": "2021-01-22T12:42:51.050188",
     "status": "completed"
    },
    "tags": []
   },
   "outputs": [
    {
     "data": {
      "text/html": [
       "<div>\n",
       "<style scoped>\n",
       "    .dataframe tbody tr th:only-of-type {\n",
       "        vertical-align: middle;\n",
       "    }\n",
       "\n",
       "    .dataframe tbody tr th {\n",
       "        vertical-align: top;\n",
       "    }\n",
       "\n",
       "    .dataframe thead th {\n",
       "        text-align: right;\n",
       "    }\n",
       "</style>\n",
       "<table border=\"1\" class=\"dataframe\">\n",
       "  <thead>\n",
       "    <tr style=\"text-align: right;\">\n",
       "      <th></th>\n",
       "      <th>Married</th>\n",
       "      <th>Credit_History</th>\n",
       "      <th>TotalIncome</th>\n",
       "      <th>CoapplicantIncome</th>\n",
       "      <th>LoanAmount</th>\n",
       "      <th>ApplicantIncome</th>\n",
       "    </tr>\n",
       "  </thead>\n",
       "  <tbody>\n",
       "    <tr>\n",
       "      <th>0</th>\n",
       "      <td>0</td>\n",
       "      <td>1.0</td>\n",
       "      <td>5849.0</td>\n",
       "      <td>0.0</td>\n",
       "      <td>146.412162</td>\n",
       "      <td>5849</td>\n",
       "    </tr>\n",
       "    <tr>\n",
       "      <th>1</th>\n",
       "      <td>1</td>\n",
       "      <td>1.0</td>\n",
       "      <td>6091.0</td>\n",
       "      <td>1508.0</td>\n",
       "      <td>128.000000</td>\n",
       "      <td>4583</td>\n",
       "    </tr>\n",
       "    <tr>\n",
       "      <th>2</th>\n",
       "      <td>1</td>\n",
       "      <td>1.0</td>\n",
       "      <td>3000.0</td>\n",
       "      <td>0.0</td>\n",
       "      <td>66.000000</td>\n",
       "      <td>3000</td>\n",
       "    </tr>\n",
       "    <tr>\n",
       "      <th>3</th>\n",
       "      <td>1</td>\n",
       "      <td>1.0</td>\n",
       "      <td>4941.0</td>\n",
       "      <td>2358.0</td>\n",
       "      <td>120.000000</td>\n",
       "      <td>2583</td>\n",
       "    </tr>\n",
       "    <tr>\n",
       "      <th>4</th>\n",
       "      <td>0</td>\n",
       "      <td>1.0</td>\n",
       "      <td>6000.0</td>\n",
       "      <td>0.0</td>\n",
       "      <td>141.000000</td>\n",
       "      <td>6000</td>\n",
       "    </tr>\n",
       "  </tbody>\n",
       "</table>\n",
       "</div>"
      ],
      "text/plain": [
       "   Married  Credit_History  TotalIncome  CoapplicantIncome  LoanAmount  \\\n",
       "0        0             1.0       5849.0                0.0  146.412162   \n",
       "1        1             1.0       6091.0             1508.0  128.000000   \n",
       "2        1             1.0       3000.0                0.0   66.000000   \n",
       "3        1             1.0       4941.0             2358.0  120.000000   \n",
       "4        0             1.0       6000.0                0.0  141.000000   \n",
       "\n",
       "   ApplicantIncome  \n",
       "0             5849  \n",
       "1             4583  \n",
       "2             3000  \n",
       "3             2583  \n",
       "4             6000  "
      ]
     },
     "execution_count": 39,
     "metadata": {},
     "output_type": "execute_result"
    }
   ],
   "source": [
    "X.head()"
   ]
  },
  {
   "cell_type": "code",
   "execution_count": 40,
   "metadata": {
    "execution": {
     "iopub.execute_input": "2021-01-22T12:42:51.285713Z",
     "iopub.status.busy": "2021-01-22T12:42:51.284813Z",
     "iopub.status.idle": "2021-01-22T12:42:51.290689Z",
     "shell.execute_reply": "2021-01-22T12:42:51.290040Z"
    },
    "papermill": {
     "duration": 0.080784,
     "end_time": "2021-01-22T12:42:51.290837",
     "exception": false,
     "start_time": "2021-01-22T12:42:51.210053",
     "status": "completed"
    },
    "tags": []
   },
   "outputs": [
    {
     "data": {
      "text/plain": [
       "((573, 6), (573,))"
      ]
     },
     "execution_count": 40,
     "metadata": {},
     "output_type": "execute_result"
    }
   ],
   "source": [
    "X.shape,y.shape"
   ]
  },
  {
   "cell_type": "code",
   "execution_count": 41,
   "metadata": {
    "execution": {
     "iopub.execute_input": "2021-01-22T12:42:51.441024Z",
     "iopub.status.busy": "2021-01-22T12:42:51.440084Z",
     "iopub.status.idle": "2021-01-22T12:42:51.445997Z",
     "shell.execute_reply": "2021-01-22T12:42:51.446502Z"
    },
    "papermill": {
     "duration": 0.08441,
     "end_time": "2021-01-22T12:42:51.446645",
     "exception": false,
     "start_time": "2021-01-22T12:42:51.362235",
     "status": "completed"
    },
    "tags": []
   },
   "outputs": [
    {
     "data": {
      "text/plain": [
       "1    398\n",
       "0    175\n",
       "Name: Loan_Status, dtype: int64"
      ]
     },
     "execution_count": 41,
     "metadata": {},
     "output_type": "execute_result"
    }
   ],
   "source": [
    "y.value_counts()"
   ]
  },
  {
   "cell_type": "markdown",
   "metadata": {
    "papermill": {
     "duration": 0.070214,
     "end_time": "2021-01-22T12:42:51.587360",
     "exception": false,
     "start_time": "2021-01-22T12:42:51.517146",
     "status": "completed"
    },
    "tags": []
   },
   "source": [
    "dataset is not balanced so we use smote algorithm to balance the output"
   ]
  },
  {
   "cell_type": "code",
   "execution_count": 42,
   "metadata": {
    "execution": {
     "iopub.execute_input": "2021-01-22T12:42:51.734065Z",
     "iopub.status.busy": "2021-01-22T12:42:51.733341Z",
     "iopub.status.idle": "2021-01-22T12:42:51.938775Z",
     "shell.execute_reply": "2021-01-22T12:42:51.939550Z"
    },
    "papermill": {
     "duration": 0.282029,
     "end_time": "2021-01-22T12:42:51.939777",
     "exception": false,
     "start_time": "2021-01-22T12:42:51.657748",
     "status": "completed"
    },
    "tags": []
   },
   "outputs": [],
   "source": [
    "from imblearn.over_sampling import SMOTE \n",
    "sm = SMOTE(random_state = 2) \n",
    "X, y = sm.fit_sample(X, y)"
   ]
  },
  {
   "cell_type": "code",
   "execution_count": 43,
   "metadata": {
    "execution": {
     "iopub.execute_input": "2021-01-22T12:42:52.158840Z",
     "iopub.status.busy": "2021-01-22T12:42:52.158034Z",
     "iopub.status.idle": "2021-01-22T12:42:52.164817Z",
     "shell.execute_reply": "2021-01-22T12:42:52.164259Z"
    },
    "papermill": {
     "duration": 0.119329,
     "end_time": "2021-01-22T12:42:52.164924",
     "exception": false,
     "start_time": "2021-01-22T12:42:52.045595",
     "status": "completed"
    },
    "tags": []
   },
   "outputs": [
    {
     "data": {
      "text/plain": [
       "1    398\n",
       "0    398\n",
       "Name: Loan_Status, dtype: int64"
      ]
     },
     "execution_count": 43,
     "metadata": {},
     "output_type": "execute_result"
    }
   ],
   "source": [
    "y.value_counts()"
   ]
  },
  {
   "cell_type": "code",
   "execution_count": 44,
   "metadata": {
    "execution": {
     "iopub.execute_input": "2021-01-22T12:42:52.311587Z",
     "iopub.status.busy": "2021-01-22T12:42:52.310863Z",
     "iopub.status.idle": "2021-01-22T12:42:52.314174Z",
     "shell.execute_reply": "2021-01-22T12:42:52.313335Z"
    },
    "papermill": {
     "duration": 0.078942,
     "end_time": "2021-01-22T12:42:52.314299",
     "exception": false,
     "start_time": "2021-01-22T12:42:52.235357",
     "status": "completed"
    },
    "tags": []
   },
   "outputs": [],
   "source": [
    "from sklearn.model_selection import train_test_split\n",
    "from sklearn.metrics import accuracy_score,classification_report"
   ]
  },
  {
   "cell_type": "code",
   "execution_count": 45,
   "metadata": {
    "execution": {
     "iopub.execute_input": "2021-01-22T12:42:52.535839Z",
     "iopub.status.busy": "2021-01-22T12:42:52.534416Z",
     "iopub.status.idle": "2021-01-22T12:42:52.540433Z",
     "shell.execute_reply": "2021-01-22T12:42:52.539735Z"
    },
    "papermill": {
     "duration": 0.119386,
     "end_time": "2021-01-22T12:42:52.540572",
     "exception": false,
     "start_time": "2021-01-22T12:42:52.421186",
     "status": "completed"
    },
    "tags": []
   },
   "outputs": [],
   "source": [
    "#spliiitng the test train\n",
    "x_train,x_test,y_train,y_test=train_test_split(X,y,test_size=0.3,random_state=6)"
   ]
  },
  {
   "cell_type": "code",
   "execution_count": 46,
   "metadata": {
    "execution": {
     "iopub.execute_input": "2021-01-22T12:42:52.764211Z",
     "iopub.status.busy": "2021-01-22T12:42:52.763178Z",
     "iopub.status.idle": "2021-01-22T12:42:52.767910Z",
     "shell.execute_reply": "2021-01-22T12:42:52.767238Z"
    },
    "papermill": {
     "duration": 0.117459,
     "end_time": "2021-01-22T12:42:52.768060",
     "exception": false,
     "start_time": "2021-01-22T12:42:52.650601",
     "status": "completed"
    },
    "tags": []
   },
   "outputs": [
    {
     "data": {
      "text/plain": [
       "((557, 6), (239, 6))"
      ]
     },
     "execution_count": 46,
     "metadata": {},
     "output_type": "execute_result"
    }
   ],
   "source": [
    "x_train.shape,x_test.shape"
   ]
  },
  {
   "cell_type": "code",
   "execution_count": 47,
   "metadata": {
    "execution": {
     "iopub.execute_input": "2021-01-22T12:42:52.989700Z",
     "iopub.status.busy": "2021-01-22T12:42:52.988624Z",
     "iopub.status.idle": "2021-01-22T12:42:52.992167Z",
     "shell.execute_reply": "2021-01-22T12:42:52.991438Z"
    },
    "papermill": {
     "duration": 0.116836,
     "end_time": "2021-01-22T12:42:52.992296",
     "exception": false,
     "start_time": "2021-01-22T12:42:52.875460",
     "status": "completed"
    },
    "tags": []
   },
   "outputs": [],
   "source": [
    "#fitting Logistic regression\n",
    "from sklearn.linear_model import LogisticRegression\n",
    "log=LogisticRegression()"
   ]
  },
  {
   "cell_type": "code",
   "execution_count": 48,
   "metadata": {
    "execution": {
     "iopub.execute_input": "2021-01-22T12:42:53.215758Z",
     "iopub.status.busy": "2021-01-22T12:42:53.214927Z",
     "iopub.status.idle": "2021-01-22T12:42:53.248035Z",
     "shell.execute_reply": "2021-01-22T12:42:53.247326Z"
    },
    "papermill": {
     "duration": 0.148264,
     "end_time": "2021-01-22T12:42:53.248157",
     "exception": false,
     "start_time": "2021-01-22T12:42:53.099893",
     "status": "completed"
    },
    "tags": []
   },
   "outputs": [
    {
     "data": {
      "text/plain": [
       "LogisticRegression()"
      ]
     },
     "execution_count": 48,
     "metadata": {},
     "output_type": "execute_result"
    }
   ],
   "source": [
    "log.fit(x_train,y_train)"
   ]
  },
  {
   "cell_type": "code",
   "execution_count": 49,
   "metadata": {
    "execution": {
     "iopub.execute_input": "2021-01-22T12:42:53.400116Z",
     "iopub.status.busy": "2021-01-22T12:42:53.399418Z",
     "iopub.status.idle": "2021-01-22T12:42:53.401991Z",
     "shell.execute_reply": "2021-01-22T12:42:53.401354Z"
    },
    "papermill": {
     "duration": 0.0806,
     "end_time": "2021-01-22T12:42:53.402100",
     "exception": false,
     "start_time": "2021-01-22T12:42:53.321500",
     "status": "completed"
    },
    "tags": []
   },
   "outputs": [],
   "source": [
    "import pickle\n"
   ]
  },
  {
   "cell_type": "code",
   "execution_count": 50,
   "metadata": {
    "execution": {
     "iopub.execute_input": "2021-01-22T12:42:53.552245Z",
     "iopub.status.busy": "2021-01-22T12:42:53.551613Z",
     "iopub.status.idle": "2021-01-22T12:42:53.558337Z",
     "shell.execute_reply": "2021-01-22T12:42:53.557735Z"
    },
    "papermill": {
     "duration": 0.08273,
     "end_time": "2021-01-22T12:42:53.558447",
     "exception": false,
     "start_time": "2021-01-22T12:42:53.475717",
     "status": "completed"
    },
    "tags": []
   },
   "outputs": [],
   "source": [
    "#saving my model to pickle file\n",
    "pickle.dump(log,open('model_pkl','wb'))"
   ]
  },
  {
   "cell_type": "code",
   "execution_count": 51,
   "metadata": {
    "execution": {
     "iopub.execute_input": "2021-01-22T12:42:53.712254Z",
     "iopub.status.busy": "2021-01-22T12:42:53.711641Z",
     "iopub.status.idle": "2021-01-22T12:42:53.717306Z",
     "shell.execute_reply": "2021-01-22T12:42:53.716659Z"
    },
    "papermill": {
     "duration": 0.082078,
     "end_time": "2021-01-22T12:42:53.717413",
     "exception": false,
     "start_time": "2021-01-22T12:42:53.635335",
     "status": "completed"
    },
    "tags": []
   },
   "outputs": [],
   "source": [
    "model = pickle.load(open('model_pkl','rb'))"
   ]
  },
  {
   "cell_type": "code",
   "execution_count": 52,
   "metadata": {
    "execution": {
     "iopub.execute_input": "2021-01-22T12:42:53.876095Z",
     "iopub.status.busy": "2021-01-22T12:42:53.875113Z",
     "iopub.status.idle": "2021-01-22T12:42:53.889134Z",
     "shell.execute_reply": "2021-01-22T12:42:53.888532Z"
    },
    "papermill": {
     "duration": 0.098403,
     "end_time": "2021-01-22T12:42:53.889245",
     "exception": false,
     "start_time": "2021-01-22T12:42:53.790842",
     "status": "completed"
    },
    "tags": []
   },
   "outputs": [
    {
     "data": {
      "text/html": [
       "<div>\n",
       "<style scoped>\n",
       "    .dataframe tbody tr th:only-of-type {\n",
       "        vertical-align: middle;\n",
       "    }\n",
       "\n",
       "    .dataframe tbody tr th {\n",
       "        vertical-align: top;\n",
       "    }\n",
       "\n",
       "    .dataframe thead th {\n",
       "        text-align: right;\n",
       "    }\n",
       "</style>\n",
       "<table border=\"1\" class=\"dataframe\">\n",
       "  <thead>\n",
       "    <tr style=\"text-align: right;\">\n",
       "      <th></th>\n",
       "      <th>Married</th>\n",
       "      <th>Credit_History</th>\n",
       "      <th>TotalIncome</th>\n",
       "      <th>CoapplicantIncome</th>\n",
       "      <th>LoanAmount</th>\n",
       "      <th>ApplicantIncome</th>\n",
       "    </tr>\n",
       "  </thead>\n",
       "  <tbody>\n",
       "    <tr>\n",
       "      <th>505</th>\n",
       "      <td>0</td>\n",
       "      <td>0.0</td>\n",
       "      <td>2138.000000</td>\n",
       "      <td>0.000000</td>\n",
       "      <td>99.000000</td>\n",
       "      <td>2138</td>\n",
       "    </tr>\n",
       "    <tr>\n",
       "      <th>384</th>\n",
       "      <td>1</td>\n",
       "      <td>0.0</td>\n",
       "      <td>6096.000000</td>\n",
       "      <td>0.000000</td>\n",
       "      <td>218.000000</td>\n",
       "      <td>6096</td>\n",
       "    </tr>\n",
       "    <tr>\n",
       "      <th>122</th>\n",
       "      <td>1</td>\n",
       "      <td>1.0</td>\n",
       "      <td>3459.000000</td>\n",
       "      <td>0.000000</td>\n",
       "      <td>25.000000</td>\n",
       "      <td>3459</td>\n",
       "    </tr>\n",
       "    <tr>\n",
       "      <th>523</th>\n",
       "      <td>1</td>\n",
       "      <td>1.0</td>\n",
       "      <td>6486.000000</td>\n",
       "      <td>2306.000000</td>\n",
       "      <td>182.000000</td>\n",
       "      <td>4180</td>\n",
       "    </tr>\n",
       "    <tr>\n",
       "      <th>596</th>\n",
       "      <td>1</td>\n",
       "      <td>1.0</td>\n",
       "      <td>6799.264152</td>\n",
       "      <td>2467.793626</td>\n",
       "      <td>111.896548</td>\n",
       "      <td>4331</td>\n",
       "    </tr>\n",
       "    <tr>\n",
       "      <th>...</th>\n",
       "      <td>...</td>\n",
       "      <td>...</td>\n",
       "      <td>...</td>\n",
       "      <td>...</td>\n",
       "      <td>...</td>\n",
       "      <td>...</td>\n",
       "    </tr>\n",
       "    <tr>\n",
       "      <th>454</th>\n",
       "      <td>1</td>\n",
       "      <td>1.0</td>\n",
       "      <td>6666.000000</td>\n",
       "      <td>2083.000000</td>\n",
       "      <td>160.000000</td>\n",
       "      <td>4583</td>\n",
       "    </tr>\n",
       "    <tr>\n",
       "      <th>53</th>\n",
       "      <td>1</td>\n",
       "      <td>1.0</td>\n",
       "      <td>10330.000000</td>\n",
       "      <td>2250.000000</td>\n",
       "      <td>180.000000</td>\n",
       "      <td>8080</td>\n",
       "    </tr>\n",
       "    <tr>\n",
       "      <th>12</th>\n",
       "      <td>1</td>\n",
       "      <td>1.0</td>\n",
       "      <td>11179.000000</td>\n",
       "      <td>8106.000000</td>\n",
       "      <td>200.000000</td>\n",
       "      <td>3073</td>\n",
       "    </tr>\n",
       "    <tr>\n",
       "      <th>98</th>\n",
       "      <td>1</td>\n",
       "      <td>1.0</td>\n",
       "      <td>12543.000000</td>\n",
       "      <td>1126.000000</td>\n",
       "      <td>225.000000</td>\n",
       "      <td>11417</td>\n",
       "    </tr>\n",
       "    <tr>\n",
       "      <th>48</th>\n",
       "      <td>1</td>\n",
       "      <td>1.0</td>\n",
       "      <td>4616.000000</td>\n",
       "      <td>0.000000</td>\n",
       "      <td>134.000000</td>\n",
       "      <td>4616</td>\n",
       "    </tr>\n",
       "  </tbody>\n",
       "</table>\n",
       "<p>239 rows × 6 columns</p>\n",
       "</div>"
      ],
      "text/plain": [
       "     Married  Credit_History   TotalIncome  CoapplicantIncome  LoanAmount  \\\n",
       "505        0             0.0   2138.000000           0.000000   99.000000   \n",
       "384        1             0.0   6096.000000           0.000000  218.000000   \n",
       "122        1             1.0   3459.000000           0.000000   25.000000   \n",
       "523        1             1.0   6486.000000        2306.000000  182.000000   \n",
       "596        1             1.0   6799.264152        2467.793626  111.896548   \n",
       "..       ...             ...           ...                ...         ...   \n",
       "454        1             1.0   6666.000000        2083.000000  160.000000   \n",
       "53         1             1.0  10330.000000        2250.000000  180.000000   \n",
       "12         1             1.0  11179.000000        8106.000000  200.000000   \n",
       "98         1             1.0  12543.000000        1126.000000  225.000000   \n",
       "48         1             1.0   4616.000000           0.000000  134.000000   \n",
       "\n",
       "     ApplicantIncome  \n",
       "505             2138  \n",
       "384             6096  \n",
       "122             3459  \n",
       "523             4180  \n",
       "596             4331  \n",
       "..               ...  \n",
       "454             4583  \n",
       "53              8080  \n",
       "12              3073  \n",
       "98             11417  \n",
       "48              4616  \n",
       "\n",
       "[239 rows x 6 columns]"
      ]
     },
     "execution_count": 52,
     "metadata": {},
     "output_type": "execute_result"
    }
   ],
   "source": [
    "x_test"
   ]
  },
  {
   "cell_type": "code",
   "execution_count": 53,
   "metadata": {
    "execution": {
     "iopub.execute_input": "2021-01-22T12:42:54.090200Z",
     "iopub.status.busy": "2021-01-22T12:42:54.089294Z",
     "iopub.status.idle": "2021-01-22T12:42:54.093867Z",
     "shell.execute_reply": "2021-01-22T12:42:54.093328Z"
    },
    "papermill": {
     "duration": 0.107442,
     "end_time": "2021-01-22T12:42:54.094007",
     "exception": false,
     "start_time": "2021-01-22T12:42:53.986565",
     "status": "completed"
    },
    "tags": []
   },
   "outputs": [],
   "source": [
    "q= model.predict([[1,1.0,459.000000,0.000000,25.000000,3459]])"
   ]
  },
  {
   "cell_type": "code",
   "execution_count": 54,
   "metadata": {
    "execution": {
     "iopub.execute_input": "2021-01-22T12:42:54.250260Z",
     "iopub.status.busy": "2021-01-22T12:42:54.249551Z",
     "iopub.status.idle": "2021-01-22T12:42:54.255483Z",
     "shell.execute_reply": "2021-01-22T12:42:54.254850Z"
    },
    "papermill": {
     "duration": 0.087512,
     "end_time": "2021-01-22T12:42:54.255595",
     "exception": false,
     "start_time": "2021-01-22T12:42:54.168083",
     "status": "completed"
    },
    "tags": []
   },
   "outputs": [
    {
     "data": {
      "text/plain": [
       "1"
      ]
     },
     "execution_count": 54,
     "metadata": {},
     "output_type": "execute_result"
    }
   ],
   "source": [
    "q[0]"
   ]
  },
  {
   "cell_type": "code",
   "execution_count": 55,
   "metadata": {
    "execution": {
     "iopub.execute_input": "2021-01-22T12:42:54.419532Z",
     "iopub.status.busy": "2021-01-22T12:42:54.417096Z",
     "iopub.status.idle": "2021-01-22T12:42:54.427677Z",
     "shell.execute_reply": "2021-01-22T12:42:54.426938Z"
    },
    "papermill": {
     "duration": 0.095962,
     "end_time": "2021-01-22T12:42:54.427804",
     "exception": false,
     "start_time": "2021-01-22T12:42:54.331842",
     "status": "completed"
    },
    "tags": []
   },
   "outputs": [
    {
     "data": {
      "text/plain": [
       "0.725314183123878"
      ]
     },
     "execution_count": 55,
     "metadata": {},
     "output_type": "execute_result"
    }
   ],
   "source": [
    "log.score(x_train,y_train)"
   ]
  },
  {
   "cell_type": "code",
   "execution_count": 56,
   "metadata": {
    "execution": {
     "iopub.execute_input": "2021-01-22T12:42:54.588082Z",
     "iopub.status.busy": "2021-01-22T12:42:54.587209Z",
     "iopub.status.idle": "2021-01-22T12:42:54.591778Z",
     "shell.execute_reply": "2021-01-22T12:42:54.591242Z"
    },
    "papermill": {
     "duration": 0.088256,
     "end_time": "2021-01-22T12:42:54.591882",
     "exception": false,
     "start_time": "2021-01-22T12:42:54.503626",
     "status": "completed"
    },
    "tags": []
   },
   "outputs": [],
   "source": [
    "#Predicting test dataset\n",
    "pred=log.predict(x_test)"
   ]
  },
  {
   "cell_type": "code",
   "execution_count": 57,
   "metadata": {
    "execution": {
     "iopub.execute_input": "2021-01-22T12:42:54.748702Z",
     "iopub.status.busy": "2021-01-22T12:42:54.747288Z",
     "iopub.status.idle": "2021-01-22T12:42:54.754445Z",
     "shell.execute_reply": "2021-01-22T12:42:54.753889Z"
    },
    "papermill": {
     "duration": 0.086705,
     "end_time": "2021-01-22T12:42:54.754558",
     "exception": false,
     "start_time": "2021-01-22T12:42:54.667853",
     "status": "completed"
    },
    "tags": []
   },
   "outputs": [
    {
     "data": {
      "text/plain": [
       "0.7447698744769874"
      ]
     },
     "execution_count": 57,
     "metadata": {},
     "output_type": "execute_result"
    }
   ],
   "source": [
    "from sklearn.metrics import accuracy_score\n",
    "accuracy_score(y_test,pred)"
   ]
  },
  {
   "cell_type": "code",
   "execution_count": 58,
   "metadata": {
    "execution": {
     "iopub.execute_input": "2021-01-22T12:42:54.912915Z",
     "iopub.status.busy": "2021-01-22T12:42:54.912098Z",
     "iopub.status.idle": "2021-01-22T12:42:54.918418Z",
     "shell.execute_reply": "2021-01-22T12:42:54.918909Z"
    },
    "papermill": {
     "duration": 0.088443,
     "end_time": "2021-01-22T12:42:54.919068",
     "exception": false,
     "start_time": "2021-01-22T12:42:54.830625",
     "status": "completed"
    },
    "tags": []
   },
   "outputs": [
    {
     "data": {
      "text/plain": [
       "array([[85, 27],\n",
       "       [34, 93]])"
      ]
     },
     "execution_count": 58,
     "metadata": {},
     "output_type": "execute_result"
    }
   ],
   "source": [
    "from sklearn import metrics\n",
    "metrics.confusion_matrix(y_test,pred)"
   ]
  },
  {
   "cell_type": "code",
   "execution_count": 59,
   "metadata": {
    "execution": {
     "iopub.execute_input": "2021-01-22T12:42:55.082261Z",
     "iopub.status.busy": "2021-01-22T12:42:55.081455Z",
     "iopub.status.idle": "2021-01-22T12:42:55.093710Z",
     "shell.execute_reply": "2021-01-22T12:42:55.094390Z"
    },
    "papermill": {
     "duration": 0.095936,
     "end_time": "2021-01-22T12:42:55.094581",
     "exception": false,
     "start_time": "2021-01-22T12:42:54.998645",
     "status": "completed"
    },
    "tags": []
   },
   "outputs": [
    {
     "name": "stdout",
     "output_type": "stream",
     "text": [
      "              precision    recall  f1-score   support\n",
      "\n",
      "           0       0.71      0.76      0.74       112\n",
      "           1       0.78      0.73      0.75       127\n",
      "\n",
      "    accuracy                           0.74       239\n",
      "   macro avg       0.74      0.75      0.74       239\n",
      "weighted avg       0.75      0.74      0.75       239\n",
      "\n"
     ]
    }
   ],
   "source": [
    "print(classification_report(y_test,pred))"
   ]
  },
  {
   "cell_type": "markdown",
   "metadata": {
    "papermill": {
     "duration": 0.075802,
     "end_time": "2021-01-22T12:42:55.247562",
     "exception": false,
     "start_time": "2021-01-22T12:42:55.171760",
     "status": "completed"
    },
    "tags": []
   },
   "source": [
    "Will try with Decision tree"
   ]
  },
  {
   "cell_type": "code",
   "execution_count": 60,
   "metadata": {
    "execution": {
     "iopub.execute_input": "2021-01-22T12:42:55.404290Z",
     "iopub.status.busy": "2021-01-22T12:42:55.401942Z",
     "iopub.status.idle": "2021-01-22T12:42:55.413568Z",
     "shell.execute_reply": "2021-01-22T12:42:55.412821Z"
    },
    "papermill": {
     "duration": 0.089768,
     "end_time": "2021-01-22T12:42:55.413705",
     "exception": false,
     "start_time": "2021-01-22T12:42:55.323937",
     "status": "completed"
    },
    "tags": []
   },
   "outputs": [
    {
     "data": {
      "text/plain": [
       "DecisionTreeClassifier()"
      ]
     },
     "execution_count": 60,
     "metadata": {},
     "output_type": "execute_result"
    }
   ],
   "source": [
    "#decision tree\n",
    "from sklearn.tree import DecisionTreeClassifier\n",
    "clf=DecisionTreeClassifier()\n",
    "clf.fit(x_train,y_train)"
   ]
  },
  {
   "cell_type": "code",
   "execution_count": 61,
   "metadata": {
    "execution": {
     "iopub.execute_input": "2021-01-22T12:42:55.652510Z",
     "iopub.status.busy": "2021-01-22T12:42:55.651454Z",
     "iopub.status.idle": "2021-01-22T12:42:55.658540Z",
     "shell.execute_reply": "2021-01-22T12:42:55.659104Z"
    },
    "papermill": {
     "duration": 0.129078,
     "end_time": "2021-01-22T12:42:55.659242",
     "exception": false,
     "start_time": "2021-01-22T12:42:55.530164",
     "status": "completed"
    },
    "tags": []
   },
   "outputs": [
    {
     "data": {
      "text/plain": [
       "1.0"
      ]
     },
     "execution_count": 61,
     "metadata": {},
     "output_type": "execute_result"
    }
   ],
   "source": [
    "clf.score(x_train,y_train)"
   ]
  },
  {
   "cell_type": "code",
   "execution_count": 62,
   "metadata": {
    "execution": {
     "iopub.execute_input": "2021-01-22T12:42:55.822484Z",
     "iopub.status.busy": "2021-01-22T12:42:55.821734Z",
     "iopub.status.idle": "2021-01-22T12:42:55.826613Z",
     "shell.execute_reply": "2021-01-22T12:42:55.825876Z"
    },
    "papermill": {
     "duration": 0.089648,
     "end_time": "2021-01-22T12:42:55.826737",
     "exception": false,
     "start_time": "2021-01-22T12:42:55.737089",
     "status": "completed"
    },
    "tags": []
   },
   "outputs": [],
   "source": [
    "pred1=clf.predict(x_test)"
   ]
  },
  {
   "cell_type": "code",
   "execution_count": 63,
   "metadata": {
    "execution": {
     "iopub.execute_input": "2021-01-22T12:42:55.993687Z",
     "iopub.status.busy": "2021-01-22T12:42:55.992739Z",
     "iopub.status.idle": "2021-01-22T12:42:55.997650Z",
     "shell.execute_reply": "2021-01-22T12:42:55.997154Z"
    },
    "papermill": {
     "duration": 0.092425,
     "end_time": "2021-01-22T12:42:55.997753",
     "exception": false,
     "start_time": "2021-01-22T12:42:55.905328",
     "status": "completed"
    },
    "tags": []
   },
   "outputs": [
    {
     "data": {
      "text/plain": [
       "array([[90, 22],\n",
       "       [35, 92]])"
      ]
     },
     "execution_count": 63,
     "metadata": {},
     "output_type": "execute_result"
    }
   ],
   "source": [
    "metrics.confusion_matrix(y_test,pred1)"
   ]
  },
  {
   "cell_type": "code",
   "execution_count": 64,
   "metadata": {
    "execution": {
     "iopub.execute_input": "2021-01-22T12:42:56.158659Z",
     "iopub.status.busy": "2021-01-22T12:42:56.158017Z",
     "iopub.status.idle": "2021-01-22T12:42:56.167142Z",
     "shell.execute_reply": "2021-01-22T12:42:56.167864Z"
    },
    "papermill": {
     "duration": 0.093003,
     "end_time": "2021-01-22T12:42:56.168081",
     "exception": false,
     "start_time": "2021-01-22T12:42:56.075078",
     "status": "completed"
    },
    "tags": []
   },
   "outputs": [
    {
     "name": "stdout",
     "output_type": "stream",
     "text": [
      "              precision    recall  f1-score   support\n",
      "\n",
      "           0       0.72      0.80      0.76       112\n",
      "           1       0.81      0.72      0.76       127\n",
      "\n",
      "    accuracy                           0.76       239\n",
      "   macro avg       0.76      0.76      0.76       239\n",
      "weighted avg       0.77      0.76      0.76       239\n",
      "\n"
     ]
    }
   ],
   "source": [
    "print(classification_report(y_test,pred1))"
   ]
  },
  {
   "cell_type": "markdown",
   "metadata": {
    "papermill": {
     "duration": 0.078712,
     "end_time": "2021-01-22T12:42:56.326034",
     "exception": false,
     "start_time": "2021-01-22T12:42:56.247322",
     "status": "completed"
    },
    "tags": []
   },
   "source": [
    "Logistic regression performed well out of two models"
   ]
  },
  {
   "cell_type": "code",
   "execution_count": null,
   "metadata": {
    "papermill": {
     "duration": 0.079532,
     "end_time": "2021-01-22T12:42:56.484440",
     "exception": false,
     "start_time": "2021-01-22T12:42:56.404908",
     "status": "completed"
    },
    "tags": []
   },
   "outputs": [],
   "source": []
  }
 ],
 "metadata": {
  "kernelspec": {
   "display_name": "Python 3",
   "language": "python",
   "name": "python3"
  },
  "language_info": {
   "codemirror_mode": {
    "name": "ipython",
    "version": 3
   },
   "file_extension": ".py",
   "mimetype": "text/x-python",
   "name": "python",
   "nbconvert_exporter": "python",
   "pygments_lexer": "ipython3",
   "version": "3.7.6"
  },
  "papermill": {
   "duration": 20.564915,
   "end_time": "2021-01-22T12:42:56.672544",
   "environment_variables": {},
   "exception": null,
   "input_path": "__notebook__.ipynb",
   "output_path": "__notebook__.ipynb",
   "parameters": {},
   "start_time": "2021-01-22T12:42:36.107629",
   "version": "2.1.0"
  }
 },
 "nbformat": 4,
 "nbformat_minor": 4
}
